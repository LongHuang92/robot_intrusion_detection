{
 "cells": [
  {
   "cell_type": "code",
   "execution_count": 1,
   "id": "6ea842b5",
   "metadata": {},
   "outputs": [
    {
     "name": "stdout",
     "output_type": "stream",
     "text": [
      "['target_masks', 'targets', 'predictions', 'metrics', 'IDs']\n"
     ]
    }
   ],
   "source": [
    "import numpy as np\n",
    "filename = '/Volumes/Extreme_SSD/mvts_transformer_robot/experiments_user_set_size/haptic_10_users/haptic_10_users_user1_legitimate/test_results.npz'\n",
    "data = np.load(filename, allow_pickle=True)\n",
    "lst = data.files\n",
    "print(lst)"
   ]
  },
  {
   "cell_type": "code",
   "execution_count": 2,
   "id": "5d372dc1",
   "metadata": {},
   "outputs": [
    {
     "name": "stderr",
     "output_type": "stream",
     "text": [
      "/Users/huanglong/opt/anaconda3/envs/deepLearning/lib/python3.10/site-packages/tqdm/auto.py:21: TqdmWarning: IProgress not found. Please update jupyter and ipywidgets. See https://ipywidgets.readthedocs.io/en/stable/user_install.html\n",
      "  from .autonotebook import tqdm as notebook_tqdm\n",
      "/var/folders/rr/c6bzrfyd5tv0pt24ky9_l4d40000gn/T/ipykernel_25485/923225844.py:4: UserWarning: Implicit dimension choice for softmax has been deprecated. Change the call to include dim=X as an argument.\n",
      "  probs = torch.nn.functional.softmax(predictions)  # (total_samples, num_classes) est. prob. for each class and sample\n"
     ]
    }
   ],
   "source": [
    "import torch\n",
    "import numpy as np\n",
    "predictions = torch.from_numpy(np.concatenate(data['predictions'], axis=0))\n",
    "probs = torch.nn.functional.softmax(predictions)  # (total_samples, num_classes) est. prob. for each class and sample\n",
    "predictions = torch.argmax(probs, dim=1).cpu().numpy()  # (total_samples,) int class index for each sample\n",
    "probs = probs.cpu().numpy()"
   ]
  },
  {
   "cell_type": "code",
   "execution_count": 6,
   "id": "787a931b",
   "metadata": {},
   "outputs": [
    {
     "name": "stdout",
     "output_type": "stream",
     "text": [
      "[[9.5864010e-01 4.1359868e-02]\n",
      " [2.1920123e-03 9.9780804e-01]\n",
      " [2.7451737e-05 9.9997258e-01]\n",
      " ...\n",
      " [1.0000000e+00 3.5367654e-18]\n",
      " [1.0000000e+00 1.9420524e-16]\n",
      " [1.0000000e+00 1.1291952e-16]]\n"
     ]
    }
   ],
   "source": [
    "print(probs)"
   ]
  },
  {
   "cell_type": "code",
   "execution_count": 7,
   "id": "fd267b5a",
   "metadata": {},
   "outputs": [
    {
     "name": "stdout",
     "output_type": "stream",
     "text": [
      "[0 1 1 ... 0 0 0]\n"
     ]
    }
   ],
   "source": [
    "print(predictions)"
   ]
  },
  {
   "cell_type": "code",
   "execution_count": 8,
   "id": "c6365069",
   "metadata": {},
   "outputs": [
    {
     "name": "stdout",
     "output_type": "stream",
     "text": [
      "[[0]\n",
      " [0]\n",
      " [0]\n",
      " ...\n",
      " [0]\n",
      " [0]\n",
      " [0]]\n"
     ]
    }
   ],
   "source": [
    "targets = torch.from_numpy(np.concatenate(data['targets'], axis=0))\n",
    "targets = targets.cpu().numpy()\n",
    "print(targets)"
   ]
  },
  {
   "cell_type": "code",
   "execution_count": 9,
   "id": "29387f5a",
   "metadata": {},
   "outputs": [],
   "source": [
    "from scipy import io\n",
    "io.savemat('predictions.mat', {\"predictions\": predictions })\n",
    "io.savemat('targets.mat', {\"targets\": targets })"
   ]
  },
  {
   "cell_type": "code",
   "execution_count": null,
   "id": "794fddfa",
   "metadata": {},
   "outputs": [],
   "source": []
  }
 ],
 "metadata": {
  "kernelspec": {
   "display_name": "Python 3 (ipykernel)",
   "language": "python",
   "name": "python3"
  },
  "language_info": {
   "codemirror_mode": {
    "name": "ipython",
    "version": 3
   },
   "file_extension": ".py",
   "mimetype": "text/x-python",
   "name": "python",
   "nbconvert_exporter": "python",
   "pygments_lexer": "ipython3",
   "version": "3.10.9"
  }
 },
 "nbformat": 4,
 "nbformat_minor": 5
}
